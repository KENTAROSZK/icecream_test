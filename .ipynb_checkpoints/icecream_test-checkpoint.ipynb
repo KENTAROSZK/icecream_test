{
 "cells": [
  {
   "cell_type": "code",
   "execution_count": 1,
   "id": "ad33e8d3-cead-4f51-8785-6b43b6a4c852",
   "metadata": {},
   "outputs": [
    {
     "name": "stdout",
     "output_type": "stream",
     "text": [
      "Requirement already satisfied: icecream in ./lib/python3.11/site-packages (2.1.3)\n",
      "Requirement already satisfied: pandas in ./lib/python3.11/site-packages (2.1.3)\n",
      "Requirement already satisfied: numpy in ./lib/python3.11/site-packages (1.26.2)\n",
      "Requirement already satisfied: colorama>=0.3.9 in ./lib/python3.11/site-packages (from icecream) (0.4.6)\n",
      "Requirement already satisfied: pygments>=2.2.0 in ./lib/python3.11/site-packages (from icecream) (2.17.2)\n",
      "Requirement already satisfied: executing>=0.3.1 in ./lib/python3.11/site-packages (from icecream) (2.0.1)\n",
      "Requirement already satisfied: asttokens>=2.0.1 in ./lib/python3.11/site-packages (from icecream) (2.4.1)\n",
      "Requirement already satisfied: python-dateutil>=2.8.2 in ./lib/python3.11/site-packages (from pandas) (2.8.2)\n",
      "Requirement already satisfied: pytz>=2020.1 in ./lib/python3.11/site-packages (from pandas) (2023.3.post1)\n",
      "Requirement already satisfied: tzdata>=2022.1 in ./lib/python3.11/site-packages (from pandas) (2023.3)\n",
      "Requirement already satisfied: six>=1.12.0 in ./lib/python3.11/site-packages (from asttokens>=2.0.1->icecream) (1.16.0)\n"
     ]
    }
   ],
   "source": [
    "# 必要なライブラリをインストールする\n",
    "!pip install icecream pandas numpy"
   ]
  },
  {
   "cell_type": "code",
   "execution_count": 2,
   "id": "00fb94e5-245d-4300-aa83-59eb5608585f",
   "metadata": {},
   "outputs": [
    {
     "name": "stderr",
     "output_type": "stream",
     "text": [
      "ic| my_list: ['a', 'b', 'c', ' d']\n"
     ]
    },
    {
     "data": {
      "text/plain": [
       "['a', 'b', 'c', ' d']"
      ]
     },
     "execution_count": 2,
     "metadata": {},
     "output_type": "execute_result"
    }
   ],
   "source": [
    "# icrecreamのインポート\n",
    "from icecream import ic\n",
    "\n",
    "# List\n",
    "my_list = [\"a\", \"b\", \"c\", \" d\"]\n",
    "\n",
    "ic(my_list) # >> ic| my_list: ['a', 'b', 'c', ' d']"
   ]
  },
  {
   "cell_type": "code",
   "execution_count": 3,
   "id": "2bceef8b-8cdd-4916-9427-7ae3da45efac",
   "metadata": {},
   "outputs": [
    {
     "name": "stderr",
     "output_type": "stream",
     "text": [
      "ic| my_list: ['a', 'b', 'c', ' d']\n"
     ]
    },
    {
     "data": {
      "text/plain": [
       "['a', 'b', 'c', ' d']"
      ]
     },
     "execution_count": 3,
     "metadata": {},
     "output_type": "execute_result"
    }
   ],
   "source": [
    "# icrecreamのインポート\n",
    "from icecream import ic\n",
    "\n",
    "# Dict\n",
    "my_dict = {\"a\": 1, \" b\": 2, \"c\": 3, \"d\": 4}\n",
    "\n",
    "ic(my_list) # >> ic| my_dict: {'a': 1, 'b': 2, 'c': 3, 'd': 4}"
   ]
  },
  {
   "cell_type": "code",
   "execution_count": 4,
   "id": "b6ec0b6b-f588-4bc1-9f51-b812195029f5",
   "metadata": {},
   "outputs": [
    {
     "name": "stderr",
     "output_type": "stream",
     "text": [
      "ic| i: 0, val: 'a'\n",
      "ic| i: 1, val: 'b'\n",
      "ic| i: 2, val: 'c'\n",
      "ic| i: 3, val: ' d'\n"
     ]
    }
   ],
   "source": [
    "# icrecreamのインポート\n",
    "from icecream import ic\n",
    "\n",
    "# Listでループさせてみる\n",
    "for i, val in enumerate(my_list):\n",
    "  ic(i, val)\n",
    "\n",
    "# 出力\n",
    "# >> ic| i: 0, val: 'a'\n",
    "# >> ic| i: 1, val: 'b'\n",
    "# >> ic| i: 2, val: 'c'\n",
    "# >> ic| i: 3, val: 'd'"
   ]
  },
  {
   "cell_type": "code",
   "execution_count": 5,
   "id": "6d6c59c2-141e-45cd-91b9-6dd2332c5613",
   "metadata": {},
   "outputs": [
    {
     "name": "stderr",
     "output_type": "stream",
     "text": [
      "ic| key: 'a', val: 1\n",
      "ic| key: ' b', val: 2\n",
      "ic| key: 'c', val: 3\n",
      "ic| key: 'd', val: 4\n"
     ]
    }
   ],
   "source": [
    "# icrecreamのインポート\n",
    "from icecream import ic\n",
    "\n",
    "# Dictでループさせてみる（値を複数以上渡すこともできる）\n",
    "for key, val in my_dict.items():\n",
    "  ic(key, val)\n",
    "\n",
    "# 出力\n",
    "# >> ic| key: 'a', val: 1\n",
    "# >> ic| key: 'b', val: 2\n",
    "# >> ic| key: 'c', val: 3\n",
    "# >> ic| key: 'd', val: 4"
   ]
  },
  {
   "cell_type": "code",
   "execution_count": 6,
   "id": "e52ad5b2-e6ab-4bca-8ad5-8b2ce5c48a27",
   "metadata": {},
   "outputs": [
    {
     "name": "stderr",
     "output_type": "stream",
     "text": [
      "ic| df:       name  age sex    city\n",
      "        0    Alice   25  女性      東京\n",
      "        1      Bob   30  男性  ニューヨーク\n",
      "        2  Charlie   35  男性    ロンドン\n",
      "        3    David   40  男性      パリ\n"
     ]
    },
    {
     "data": {
      "text/html": [
       "<div>\n",
       "<style scoped>\n",
       "    .dataframe tbody tr th:only-of-type {\n",
       "        vertical-align: middle;\n",
       "    }\n",
       "\n",
       "    .dataframe tbody tr th {\n",
       "        vertical-align: top;\n",
       "    }\n",
       "\n",
       "    .dataframe thead th {\n",
       "        text-align: right;\n",
       "    }\n",
       "</style>\n",
       "<table border=\"1\" class=\"dataframe\">\n",
       "  <thead>\n",
       "    <tr style=\"text-align: right;\">\n",
       "      <th></th>\n",
       "      <th>name</th>\n",
       "      <th>age</th>\n",
       "      <th>sex</th>\n",
       "      <th>city</th>\n",
       "    </tr>\n",
       "  </thead>\n",
       "  <tbody>\n",
       "    <tr>\n",
       "      <th>0</th>\n",
       "      <td>Alice</td>\n",
       "      <td>25</td>\n",
       "      <td>女性</td>\n",
       "      <td>東京</td>\n",
       "    </tr>\n",
       "    <tr>\n",
       "      <th>1</th>\n",
       "      <td>Bob</td>\n",
       "      <td>30</td>\n",
       "      <td>男性</td>\n",
       "      <td>ニューヨーク</td>\n",
       "    </tr>\n",
       "    <tr>\n",
       "      <th>2</th>\n",
       "      <td>Charlie</td>\n",
       "      <td>35</td>\n",
       "      <td>男性</td>\n",
       "      <td>ロンドン</td>\n",
       "    </tr>\n",
       "    <tr>\n",
       "      <th>3</th>\n",
       "      <td>David</td>\n",
       "      <td>40</td>\n",
       "      <td>男性</td>\n",
       "      <td>パリ</td>\n",
       "    </tr>\n",
       "  </tbody>\n",
       "</table>\n",
       "</div>"
      ],
      "text/plain": [
       "      name  age sex    city\n",
       "0    Alice   25  女性      東京\n",
       "1      Bob   30  男性  ニューヨーク\n",
       "2  Charlie   35  男性    ロンドン\n",
       "3    David   40  男性      パリ"
      ]
     },
     "execution_count": 6,
     "metadata": {},
     "output_type": "execute_result"
    }
   ],
   "source": [
    "# icrecreamのインポート\n",
    "from icecream import ic\n",
    "\n",
    "# pandasなどのデータを使った場合の挙動を確認してみる\n",
    "import pandas as pd\n",
    "\n",
    "# 辞書型からDataFrameを作成する\n",
    "data = {\n",
    "    'name': ['Alice', 'Bob', 'Charlie', 'David'],\n",
    "    'age': [25, 30, 35, 40],\n",
    "    'sex': ['女性', '男性', '男性', '男性'],\n",
    "    'city': ['東京', 'ニューヨーク', 'ロンドン', 'パリ']\n",
    "}\n",
    "\n",
    "df = pd.DataFrame(data)\n",
    "\n",
    "ic(df)\n",
    "\n",
    "\n",
    "# 実行結果\n",
    "# >> ic| df:       name  age sex    city\n",
    "# >>         0    Alice   25  女性      東京\n",
    "# >>         1      Bob   30  男性  ニューヨーク\n",
    "# >>         2  Charlie   35  男性    ロンドン\n",
    "# >>         3    David   40  男性      パリ"
   ]
  },
  {
   "cell_type": "code",
   "execution_count": 7,
   "id": "f17b291e-471f-4371-b24a-0441d9b1ab81",
   "metadata": {},
   "outputs": [
    {
     "name": "stderr",
     "output_type": "stream",
     "text": [
      "ic| my_function1(10): 110\n"
     ]
    },
    {
     "data": {
      "text/plain": [
       "110"
      ]
     },
     "execution_count": 7,
     "metadata": {},
     "output_type": "execute_result"
    }
   ],
   "source": [
    "# icrecreamのインポート\n",
    "from icecream import ic\n",
    "\n",
    "# 関数の定義\n",
    "def my_function1(x: int) -> int:\n",
    "  return x + 100\n",
    "\n",
    "ic(my_function1(10)) # >> ic| my_function1(10): 110"
   ]
  },
  {
   "cell_type": "code",
   "execution_count": 8,
   "id": "f609a3da-2991-407a-b741-3b4eec17a4e5",
   "metadata": {},
   "outputs": [
    {
     "name": "stdout",
     "output_type": "stream",
     "text": [
      "my_function1(10)=110\n",
      "my_list=['a', 'b', 'c', ' d']\n"
     ]
    }
   ],
   "source": [
    "# python3.8以降であれば、上でやったことと同じことができる\n",
    "# fで文字列を囲み、実行結果を確認したい場合は、『=』をつけてあげる\n",
    "\n",
    "print(f\"{my_function1(10)=}\") # >> my_function1(10)=110\n",
    "print(f\"{my_list=}\") # >> my_list=['a', 'b', 'c', ' d']"
   ]
  },
  {
   "cell_type": "code",
   "execution_count": 9,
   "id": "596e633d-bcf6-4cb8-a63a-c5c136915808",
   "metadata": {},
   "outputs": [
    {
     "name": "stdout",
     "output_type": "stream",
     "text": [
      "df=      name  age sex    city\n",
      "0    Alice   25  女性      東京\n",
      "1      Bob   30  男性  ニューヨーク\n",
      "2  Charlie   35  男性    ロンドン\n",
      "3    David   40  男性      パリ\n"
     ]
    }
   ],
   "source": [
    "print(f\"{df=}\")\n",
    "\n",
    "# 実行結果\n",
    "# >> df=      name  age sex    city\n",
    "# >> 0    Alice   25  女性      東京\n",
    "# >> 1      Bob   30  男性  ニューヨーク\n",
    "# >> 2  Charlie   35  男性    ロンドン\n",
    "# >> 3    David   40  男性      パリ"
   ]
  },
  {
   "cell_type": "code",
   "execution_count": 10,
   "id": "0bf947d6-d232-40e0-a51f-c16dbedd71fa",
   "metadata": {},
   "outputs": [
    {
     "name": "stdout",
     "output_type": "stream",
     "text": [
      "====================\n",
      "3\n",
      "====================\n"
     ]
    }
   ],
   "source": [
    "from functools import wraps\n",
    "\n",
    "def logger(separator : str = '-'):\n",
    "  def decorator(func):\n",
    "    @wraps(func)\n",
    "    def wrapper(*args, **kwargs):\n",
    "      # 事前処理\n",
    "      print(20 * separator)\n",
    "\n",
    "      result = func(*args, **kwargs)\n",
    "\n",
    "      # 関数の出力結果を表示する\n",
    "      print(result)\n",
    "\n",
    "      # 事後処理\n",
    "      print(20 * separator)\n",
    "\n",
    "      return result\n",
    "    return wrapper\n",
    "  return decorator\n",
    "\n",
    "\n",
    "# 関数にデコレータをつける\n",
    "@logger(\"=\")\n",
    "def simple_func1(x: int, y: int) -> int:\n",
    "  return x + y\n",
    "\n",
    "# 実行してみる\n",
    "func1_result = simple_func1(1,2)\n",
    "\n",
    "\n",
    "# 出力結果\n",
    "# >> ====================\n",
    "# >> 3\n",
    "# >> ===================="
   ]
  },
  {
   "cell_type": "code",
   "execution_count": 11,
   "id": "37951511-9dce-4f6c-b0fb-e4d8d51859e8",
   "metadata": {},
   "outputs": [
    {
     "name": "stderr",
     "output_type": "stream",
     "text": [
      "ic| 470715617.py:4 in <module> at 17:35:49.740\n"
     ]
    }
   ],
   "source": [
    "# icrecreamのインポート\n",
    "from icecream import ic\n",
    "\n",
    "ic() # >> ic| 3418770342.py:4 in <module> at 17:11:06.832"
   ]
  },
  {
   "cell_type": "code",
   "execution_count": 12,
   "id": "75ae80d6-4cd3-4caa-bbb3-1c9d9380a343",
   "metadata": {},
   "outputs": [
    {
     "name": "stderr",
     "output_type": "stream",
     "text": [
      "ic| 955660172.py:5 in my_function2() at 17:35:49.763\n",
      "ic| 955660172.py:9 in my_function2() at 17:35:49.778\n",
      "ic| 'val is over 10'\n"
     ]
    }
   ],
   "source": [
    "# icrecreamのインポート\n",
    "from icecream import ic\n",
    "\n",
    "def my_function2():\n",
    "  ic()\n",
    "  val = my_function1(10)\n",
    "\n",
    "  if val >= 10:\n",
    "    ic()\n",
    "    ic(\"val is over 10\")\n",
    "  else:\n",
    "    ic()\n",
    "    ic(\"val is uner 10\")\n",
    "\n",
    "my_function2()"
   ]
  },
  {
   "cell_type": "code",
   "execution_count": 13,
   "id": "fcd36fc5-a2f0-4b06-8b20-d376b87a8f80",
   "metadata": {},
   "outputs": [
    {
     "name": "stdout",
     "output_type": "stream",
     "text": [
      "0\n",
      "1\n",
      "val is over 10\n"
     ]
    }
   ],
   "source": [
    "def my_function3():\n",
    "  print(0)\n",
    "  val = my_function1(10)\n",
    "\n",
    "  if val >= 10:\n",
    "    print(1)\n",
    "    print(\"val is over 10\")\n",
    "  else:\n",
    "    print(2)\n",
    "    print(\"val is uner 10\")\n",
    "\n",
    "my_function3()"
   ]
  },
  {
   "cell_type": "code",
   "execution_count": 14,
   "id": "129385b8-ec37-44c0-bec5-f0bf132a9a6f",
   "metadata": {},
   "outputs": [
    {
     "name": "stdout",
     "output_type": "stream",
     "text": [
      "ic| mozi: 'sup'\n",
      "<class 'str'>\n",
      "ic| mozi: 'sup' <-- icecreamの出力結果を文字列化したもの\n"
     ]
    }
   ],
   "source": [
    "# icrecreamのインポート\n",
    "from icecream import ic\n",
    "\n",
    "mozi = 'sup'\n",
    "out   = ic.format(mozi)\n",
    "\n",
    "print(out) # >> ic| mozi: 'sup'\n",
    "print(type(out)) # >> <class 'str'>\n",
    "\n",
    "print(out + \" <-- icecreamの出力結果を文字列化したもの\") # >> ic| mozi: 'sup' <-- icecreamの出力結果を文字列化したもの"
   ]
  },
  {
   "cell_type": "code",
   "execution_count": 15,
   "id": "79971279-52f0-4850-ae93-22e20ee51e38",
   "metadata": {},
   "outputs": [
    {
     "name": "stderr",
     "output_type": "stream",
     "text": [
      "output :-> my_function1(10): 110\n",
      "output :-> my_list: ['a', 'b', 'c', ' d']\n",
      "output :-> my_dict: {' b': 2, 'a': 1, 'c': 3, 'd': 4}\n"
     ]
    },
    {
     "data": {
      "text/plain": [
       "{'a': 1, ' b': 2, 'c': 3, 'd': 4}"
      ]
     },
     "execution_count": 15,
     "metadata": {},
     "output_type": "execute_result"
    }
   ],
   "source": [
    "# icrecreamのインポート\n",
    "from icecream import ic\n",
    "\n",
    "# prefixの変更\n",
    "ic.configureOutput(prefix='output :-> ')\n",
    "\n",
    "\n",
    "ic(my_function1(10)) # >> output :-> my_function1(10): 110\n",
    "ic(my_list) # >> output :-> my_list: ['a', 'b', 'c', ' d']\n",
    "ic(my_dict) # >> output :-> my_dict: {'a': 1, 'b': 2, 'c': 3, 'd': 4}"
   ]
  },
  {
   "cell_type": "code",
   "execution_count": 16,
   "id": "05933d30-1576-4236-82db-383c93ccb0c7",
   "metadata": {},
   "outputs": [
    {
     "name": "stderr",
     "output_type": "stream",
     "text": [
      "2023-11-26 17/35/11/26/23 49 :->  my_function1(10): 110\n",
      "2023-11-26 17/35/11/26/23 51 :->  my_list: ['a', 'b', 'c', ' d']\n",
      "2023-11-26 17/35/11/26/23 54 :->  my_dict: {' b': 2, 'a': 1, 'c': 3, 'd': 4}\n"
     ]
    },
    {
     "data": {
      "text/plain": [
       "{'a': 1, ' b': 2, 'c': 3, 'd': 4}"
      ]
     },
     "execution_count": 16,
     "metadata": {},
     "output_type": "execute_result"
    }
   ],
   "source": [
    "# icrecreamのインポート\n",
    "from icecream import ic\n",
    "\n",
    "def get_current_time():\n",
    "  from datetime import datetime\n",
    "  \n",
    "  # 実行時刻を取得する\n",
    "  current_time = datetime.now()\n",
    "  # フォーマットに合わせて整形する\n",
    "  formatted_time = current_time.strftime(\"%Y-%m-%d %H/%M/%D %S\")\n",
    "  \n",
    "  return formatted_time + \" :->  \"\n",
    "\n",
    "# prefixの変更\n",
    "ic.configureOutput(prefix=get_current_time)\n",
    "\n",
    "import time # 連続して実行してしまうと、時刻が更新されているのかわからないため、time.sleepで強制的に2秒間を停止させてみた。実際のコードではこれは不要です。\n",
    "ic(my_function1(10)) # >> 2023-11-26 17/17/11/26/23 21 :->  my_function1(10): 110\n",
    "\n",
    "time.sleep(2)\n",
    "ic(my_list) # >> 2023-11-26 17/17/11/26/23 23 :->  my_list: ['a', 'b', 'c', ' d']\n",
    "\n",
    "time.sleep(2)\n",
    "ic(my_dict) # >> 2023-11-26 17/17/11/26/23 25 :->  my_dict: {' b': 2, 'a': 1, 'c': 3, 'd': 4}"
   ]
  },
  {
   "cell_type": "code",
   "execution_count": 17,
   "id": "9248d538-4acc-48dd-94f8-2bf1f486ff88",
   "metadata": {},
   "outputs": [
    {
     "name": "stderr",
     "output_type": "stream",
     "text": [
      "ic|10\n",
      "ic|string : `hello` with length 5\n",
      "ic|10, string : `hello` with length 5\n"
     ]
    },
    {
     "data": {
      "text/plain": [
       "(10, 'hello')"
      ]
     },
     "execution_count": 17,
     "metadata": {},
     "output_type": "execute_result"
    }
   ],
   "source": [
    "# icrecreamのインポート\n",
    "from icecream import ic\n",
    "\n",
    "# icの引数が文字列だった場合は、その文字列の長さを返す\n",
    "def toString(obj):\n",
    "  if isinstance(obj, str):\n",
    "    return f\"string : `{obj}` with length {len(obj)}\"\n",
    "  return repr(obj)\n",
    "\n",
    "\n",
    "# prefixの変更\n",
    "ic.configureOutput(prefix=\"ic|\")\n",
    "\n",
    "# 上で定義した関数をメソッドに引き渡す\n",
    "ic.configureOutput(argToStringFunction=toString)\n",
    "\n",
    "\n",
    "ic(10) # >> ic|10\n",
    "ic('hello') # >> ic|string : `hello` with length 5\n",
    "ic(10, 'hello') # >> ic|10, string : `hello` with length 5"
   ]
  },
  {
   "cell_type": "code",
   "execution_count": 18,
   "id": "4a3d3a4b-a45f-4cf9-9c59-2b9d5a946ca0",
   "metadata": {},
   "outputs": [
    {
     "name": "stderr",
     "output_type": "stream",
     "text": [
      "ic|my_function1(10): 110\n",
      "ic|1866653307.py:13 in <module>- my_function1(10): 110\n",
      "ic|my_function1(10): 110\n"
     ]
    },
    {
     "data": {
      "text/plain": [
       "110"
      ]
     },
     "execution_count": 18,
     "metadata": {},
     "output_type": "execute_result"
    }
   ],
   "source": [
    "# icrecreamのインポート\n",
    "from icecream import ic\n",
    "\n",
    "# 関数の定義\n",
    "def my_function1(x: int) -> int:\n",
    "  return x + 100\n",
    "\n",
    "\n",
    "ic(my_function1(10))\n",
    "\n",
    "\n",
    "ic.configureOutput(includeContext=True)\n",
    "ic(my_function1(10))\n",
    "\n",
    "ic.configureOutput(includeContext=False)\n",
    "ic(my_function1(10))"
   ]
  },
  {
   "cell_type": "code",
   "execution_count": 19,
   "id": "1296b330-008d-4900-b7dd-169145b77321",
   "metadata": {},
   "outputs": [
    {
     "name": "stderr",
     "output_type": "stream",
     "text": [
      "ic|/private/var/folders/_5/rkk_3xfx78z09g62fhwhsml80000gn/T/ipykernel_21292/3579979697.py:7 in my_function4()\n",
      "   _list: ['a', 'A']\n",
      "ic|3579979697.py:7 in my_function4()- _list: ['a', 'A']\n"
     ]
    }
   ],
   "source": [
    "# icrecreamのインポート\n",
    "from icecream import ic\n",
    "\n",
    "# 関数を定義する\n",
    "def my_function4():\n",
    "  _list = [\"a\", \"A\"]\n",
    "  ic(_list)\n",
    "\n",
    "\n",
    "# 絶対パス表示させてみる\n",
    "ic.configureOutput(includeContext=True, contextAbsPath=True)\n",
    "my_function4() # >> ic|/private/var/folders/_5/rkk_3xfx78z09g62fhwhsml80000gn/T/ipykernel_21251/3659232331.py:11 in my_function4() _list: ['a', 'A']\n",
    "\n",
    "\n",
    "# 絶対パス表示させない\n",
    "ic.configureOutput(includeContext=True, contextAbsPath=False)\n",
    "my_function4() # >> ic|2094017797.py:10 in my_function4()- _list: ['a', 'A']"
   ]
  }
 ],
 "metadata": {
  "kernelspec": {
   "display_name": "Python 3 (ipykernel)",
   "language": "python",
   "name": "python3"
  },
  "language_info": {
   "codemirror_mode": {
    "name": "ipython",
    "version": 3
   },
   "file_extension": ".py",
   "mimetype": "text/x-python",
   "name": "python",
   "nbconvert_exporter": "python",
   "pygments_lexer": "ipython3",
   "version": "3.11.6"
  }
 },
 "nbformat": 4,
 "nbformat_minor": 5
}
